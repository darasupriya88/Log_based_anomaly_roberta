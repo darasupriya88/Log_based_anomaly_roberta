{
 "cells": [
  {
   "cell_type": "code",
   "execution_count": 10,
   "id": "e14a1242",
   "metadata": {},
   "outputs": [],
   "source": [
    "import numpy as np\n",
    "import pandas as pd\n",
    "import re\n",
    "from collections import OrderedDict\n",
    "from collections import Counter\n",
    "from PIL import Image"
   ]
  },
  {
   "cell_type": "code",
   "execution_count": 9,
   "id": "4a60a4ba",
   "metadata": {},
   "outputs": [],
   "source": [
    "import torch\n",
    "from transformers import RobertaTokenizer, RobertaModel\n",
    "import pandas as pd\n",
    "import numpy as np\n",
    "from collections import OrderedDict\n",
    "\n",
    "model = RobertaModel.from_pretrained('roberta-base')\n",
    "tokenizer = RobertaTokenizer.from_pretrained('roberta-base')"
   ]
  },
  {
   "cell_type": "code",
   "execution_count": 4,
   "id": "caa4e400",
   "metadata": {},
   "outputs": [],
   "source": [
    "def collect_event_ids(data_frame, regex_pattern, column_names):\n",
    "    \"\"\"\n",
    "    turns input data_frame into a 2 columned dataframe\n",
    "    with columns: BlockId, EventSequence\n",
    "    where EventSequence is a list of the events that happened to the block\n",
    "    \"\"\"\n",
    "    data_dict = OrderedDict()\n",
    "    for _, row in data_frame.iterrows():\n",
    "        blk_id_list = re.findall(regex_pattern, row[\"Content\"])\n",
    "        blk_id_set = set(blk_id_list)\n",
    "        for blk_id in blk_id_set:\n",
    "            if blk_id not in data_dict:\n",
    "                data_dict[blk_id] = []\n",
    "            data_dict[blk_id].append(row[\"EventId\"])\n",
    "    data_df = pd.DataFrame(list(data_dict.items()), columns=column_names)\n",
    "    return data_df"
   ]
  },
  {
   "cell_type": "code",
   "execution_count": 5,
   "id": "98b35e5c",
   "metadata": {},
   "outputs": [],
   "source": [
    "def windower(sequence, window_size):\n",
    "    \"\"\"\n",
    "    creates an array of arrays of windows\n",
    "    output array is of length: len(sequence) - window_size + 1\n",
    "    \"\"\"\n",
    "    return np.lib.stride_tricks.sliding_window_view(sequence, window_size)"
   ]
  },
  {
   "cell_type": "code",
   "execution_count": 6,
   "id": "5485dfe7",
   "metadata": {},
   "outputs": [],
   "source": [
    "def sequence_padder(sequence, required_length):\n",
    "    \"\"\"\n",
    "    right pads events sequence until max sequence length long\n",
    "    \"\"\"\n",
    "    if len(sequence) > required_length:\n",
    "        return sequence\n",
    "    return np.pad(\n",
    "        sequence,\n",
    "        (0, required_length - len(sequence)),\n",
    "        mode=\"constant\",\n",
    "        constant_values=(0),\n",
    "    )"
   ]
  },
  {
   "cell_type": "code",
   "execution_count": 44,
   "id": "31e9fb23",
   "metadata": {},
   "outputs": [],
   "source": [
    "def resize_time_image(time_image, size):\n",
    "    \"\"\"\n",
    "    compresses time images that had more sequences than the set max sequence length\n",
    "    \"\"\"\n",
    "    width = size[1]\n",
    "    height = size[0]\n",
    "    return np.array(Image.fromarray(time_image).resize((width, height)))"
   ]
  },
  {
   "cell_type": "code",
   "execution_count": 50,
   "id": "9990b34c",
   "metadata": {},
   "outputs": [],
   "source": [
    "class FeatureExtractor(object):\n",
    "    \"\"\"\n",
    "    class for fitting and transforming the training set\n",
    "    then transforming the testing set\n",
    "    \"\"\"\n",
    "\n",
    "    def __init__(self):\n",
    "        self.tokenizer = RobertaTokenizer.from_pretrained('roberta-base')\n",
    "        self.model = RobertaModel.from_pretrained('roberta-base')\n",
    "        self.model.eval()\n",
    "    \n",
    "    def get_roberta_features(log_contents):\n",
    "    \"\"\"\n",
    "    Convert log contents into RoBERTa embeddings.\n",
    "    \"\"\"\n",
    "    inputs = tokenizer(log_contents, padding=True, truncation=True, max_length=512, return_tensors=\"pt\")\n",
    "\n",
    "    with torch.no_grad():\n",
    "        outputs = model(**inputs)\n",
    "\n",
    "    embeddings = outputs.last_hidden_state.mean(dim=1).squeeze().numpy()\n",
    "    return embeddings\n",
    "\n",
    "    def fit_transform(self, X_seq)\n",
    "        return self.transform(X_seq)\n",
    "\n",
    "    def transform(self, sequences):\n",
    "        \"\"\"\n",
    "        Converts a list of text sequences into a matrix of RoBERTa embeddings.\n",
    "        \"\"\"\n",
    "        features = []\n",
    "        for sequence in sequences:\n",
    "            text = ' '.join(sequence)  # Convert list of events to a single string if necessary\n",
    "            embeddings = self.get_roberta_features(text)\n",
    "            features.append(embeddings)\n",
    "        return np.array(features)\n"
   ]
  },
  {
   "cell_type": "code",
   "execution_count": 46,
   "id": "e9b8da59",
   "metadata": {
    "scrolled": true
   },
   "outputs": [
    {
     "name": "stdout",
     "output_type": "stream",
     "text": [
      "loading x_train\n",
      "loading x_test\n",
      "loading y\n",
      "collecting events for x_train\n",
      "collecting events for x_test\n",
      "merging block frames with labels\n",
      "removing blocks that are overlapped into train and test\n"
     ]
    }
   ],
   "source": [
    "import numpy as np\n",
    "import pandas as pd\n",
    "import time\n",
    "\n",
    "if __name__ == \"__main__\":\n",
    "\n",
    "    data_version = \"_v5\"\n",
    "\n",
    "    data_version = \"_roberta{}\".format(data_version)\n",
    "\n",
    "    # where the \"raw\" data for this file is located\n",
    "    load_data_location = \"./project_processed_data/\"\n",
    "\n",
    "    # where the processed data is saved\n",
    "    save_location = \"./project_processed_data/{}/\".format(data_version)\n",
    "\n",
    "    start = time.time()\n",
    "\n",
    "    # Loads data\n",
    "    print(\"loading x_train\")\n",
    "    x_train = pd.read_csv(\"{}HDFS_train.log_structured.csv\".format(load_data_location))\n",
    "\n",
    "    print(\"loading x_test\")\n",
    "    x_test = pd.read_csv(\"{}HDFS_test.log_structured.csv\".format(load_data_location))\n",
    "\n",
    "    print(\"loading y\")\n",
    "    y = pd.read_csv(\"{}anomaly_label.csv\".format(load_data_location))\n",
    "\n",
    "    # processes events into blocks\n",
    "    re_pat = r\"blk_-[0-9]*\"\n",
    "    col_names = [\"BlockId\", \"EventSequence\"]\n",
    "\n",
    "    print(\"collecting events for x_train\")\n",
    "    events_train = collect_event_ids(x_train, re_pat, col_names)\n",
    "    print(\"collecting events for x_test\")\n",
    "    events_test = collect_event_ids(x_test, re_pat, col_names)\n",
    "\n",
    "    print(\"merging block frames with labels\")\n",
    "    events_train = events_train.merge(y, on=\"BlockId\")\n",
    "    events_test = events_test.merge(y, on=\"BlockId\")\n",
    "\n",
    "    print(\"removing blocks that are overlapped into train and test\")\n",
    "    overlapping_blocks = np.intersect1d(events_train[\"BlockId\"], events_test[\"BlockId\"])\n",
    "    events_train = events_train[~events_train[\"BlockId\"].isin(overlapping_blocks)]\n",
    "    events_test = events_test[~events_test[\"BlockId\"].isin(overlapping_blocks)]\n",
    "\n",
    "    events_train_values = events_train[\"EventSequence\"].values\n",
    "    events_test_values = events_test[\"EventSequence\"].values\n",
    "    "
   ]
  },
  {
   "cell_type": "code",
   "execution_count": 59,
   "id": "653bf0eb",
   "metadata": {},
   "outputs": [
    {
     "data": {
      "text/html": [
       "<div>\n",
       "<style scoped>\n",
       "    .dataframe tbody tr th:only-of-type {\n",
       "        vertical-align: middle;\n",
       "    }\n",
       "\n",
       "    .dataframe tbody tr th {\n",
       "        vertical-align: top;\n",
       "    }\n",
       "\n",
       "    .dataframe thead th {\n",
       "        text-align: right;\n",
       "    }\n",
       "</style>\n",
       "<table border=\"1\" class=\"dataframe\">\n",
       "  <thead>\n",
       "    <tr style=\"text-align: right;\">\n",
       "      <th></th>\n",
       "      <th>BlockId</th>\n",
       "      <th>Label</th>\n",
       "    </tr>\n",
       "  </thead>\n",
       "  <tbody>\n",
       "    <tr>\n",
       "      <th>0</th>\n",
       "      <td>blk_-1608999687919862906</td>\n",
       "      <td>Normal</td>\n",
       "    </tr>\n",
       "    <tr>\n",
       "      <th>1</th>\n",
       "      <td>blk_7503483334202473044</td>\n",
       "      <td>Normal</td>\n",
       "    </tr>\n",
       "    <tr>\n",
       "      <th>2</th>\n",
       "      <td>blk_-3544583377289625738</td>\n",
       "      <td>Anomaly</td>\n",
       "    </tr>\n",
       "    <tr>\n",
       "      <th>3</th>\n",
       "      <td>blk_-9073992586687739851</td>\n",
       "      <td>Normal</td>\n",
       "    </tr>\n",
       "    <tr>\n",
       "      <th>4</th>\n",
       "      <td>blk_7854771516489510256</td>\n",
       "      <td>Normal</td>\n",
       "    </tr>\n",
       "    <tr>\n",
       "      <th>...</th>\n",
       "      <td>...</td>\n",
       "      <td>...</td>\n",
       "    </tr>\n",
       "    <tr>\n",
       "      <th>575056</th>\n",
       "      <td>blk_1019720114020043203</td>\n",
       "      <td>Normal</td>\n",
       "    </tr>\n",
       "    <tr>\n",
       "      <th>575057</th>\n",
       "      <td>blk_-2683116845478050414</td>\n",
       "      <td>Normal</td>\n",
       "    </tr>\n",
       "    <tr>\n",
       "      <th>575058</th>\n",
       "      <td>blk_5595059397348477632</td>\n",
       "      <td>Normal</td>\n",
       "    </tr>\n",
       "    <tr>\n",
       "      <th>575059</th>\n",
       "      <td>blk_1513937873877967730</td>\n",
       "      <td>Normal</td>\n",
       "    </tr>\n",
       "    <tr>\n",
       "      <th>575060</th>\n",
       "      <td>blk_-9128742458709757181</td>\n",
       "      <td>Anomaly</td>\n",
       "    </tr>\n",
       "  </tbody>\n",
       "</table>\n",
       "<p>575061 rows × 2 columns</p>\n",
       "</div>"
      ],
      "text/plain": [
       "                         BlockId    Label\n",
       "0       blk_-1608999687919862906   Normal\n",
       "1        blk_7503483334202473044   Normal\n",
       "2       blk_-3544583377289625738  Anomaly\n",
       "3       blk_-9073992586687739851   Normal\n",
       "4        blk_7854771516489510256   Normal\n",
       "...                          ...      ...\n",
       "575056   blk_1019720114020043203   Normal\n",
       "575057  blk_-2683116845478050414   Normal\n",
       "575058   blk_5595059397348477632   Normal\n",
       "575059   blk_1513937873877967730   Normal\n",
       "575060  blk_-9128742458709757181  Anomaly\n",
       "\n",
       "[575061 rows x 2 columns]"
      ]
     },
     "execution_count": 59,
     "metadata": {},
     "output_type": "execute_result"
    }
   ],
   "source": [
    "y"
   ]
  },
  {
   "cell_type": "code",
   "execution_count": 58,
   "id": "0a74ed48",
   "metadata": {
    "scrolled": false
   },
   "outputs": [
    {
     "name": "stdout",
     "output_type": "stream",
     "text": [
      "fit_transform x_train\n",
      "final shape will be  16 43\n",
      "train data shape:  (197301, 16, 43)\n",
      "transform x_test\n",
      "test data shape:  (60336, 16, 43)\n",
      "collecting y data\n"
     ]
    }
   ],
   "source": [
    "# fit transform & transform\n",
    "fe = FeatureExtractor()\n",
    "\n",
    "print(\"fit_transform x_train\")\n",
    "subblocks_train = fe.fit_transform(\n",
    "    events_train_values,\n",
    "    length_percentile=95,\n",
    "    window_size=16,\n",
    ")\n",
    "\n",
    "print(\"transform x_test\")\n",
    "subblocks_test = fe.transform(events_test_values)\n",
    "\n",
    "print(\"collecting y data\")\n",
    "y_train = events_train[[\"BlockId\", \"Label\"]]\n",
    "y_test = events_test[[\"BlockId\", \"Label\"]]"
   ]
  },
  {
   "cell_type": "code",
   "execution_count": 56,
   "id": "033b0ec5",
   "metadata": {
    "scrolled": true
   },
   "outputs": [
    {
     "name": "stdout",
     "output_type": "stream",
     "text": [
      "writing y to csv\n",
      "saving x to numpy object\n",
      "time taken : 5771.833292961121\n"
     ]
    }
   ],
   "source": [
    "# saving files\n",
    "print(\"writing y to csv\")\n",
    "y_train.to_csv(\"{}y_train{}.csv\".format(save_location, data_version))\n",
    "y_test.to_csv(\"{}y_test{}.csv\".format(save_location, data_version))\n",
    "\n",
    "print(\"saving x to numpy object\")\n",
    "np.save(\"{}x_train{}.npy\".format(save_location, data_version), subblocks_train)\n",
    "np.save(\"{}x_test{}.npy\".format(save_location, data_version), subblocks_test)\n",
    "\n",
    "print(\"time taken :\", time.time() - start)"
   ]
  },
  {
   "cell_type": "code",
   "execution_count": null,
   "id": "c530ba1d",
   "metadata": {},
   "outputs": [],
   "source": []
  }
 ],
 "metadata": {
  "kernelspec": {
   "display_name": "Python 3 (ipykernel)",
   "language": "python",
   "name": "python3"
  },
  "language_info": {
   "codemirror_mode": {
    "name": "ipython",
    "version": 3
   },
   "file_extension": ".py",
   "mimetype": "text/x-python",
   "name": "python",
   "nbconvert_exporter": "python",
   "pygments_lexer": "ipython3",
   "version": "3.11.5"
  }
 },
 "nbformat": 4,
 "nbformat_minor": 5
}
